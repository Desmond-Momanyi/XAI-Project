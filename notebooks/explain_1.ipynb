{
 "cells": [
  {
   "cell_type": "code",
   "execution_count": 7,
   "id": "6c1cba0e",
   "metadata": {},
   "outputs": [
    {
     "name": "stderr",
     "output_type": "stream",
     "text": [
      "Downloading...\n",
      "From (original): https://drive.google.com/uc?id=1dMFYAkmqTd0fYiwuXXodSX8Kb3rDdaXH\n",
      "From (redirected): https://drive.google.com/uc?id=1dMFYAkmqTd0fYiwuXXodSX8Kb3rDdaXH&confirm=t&uuid=f89d7f5a-44a8-49fe-91f7-361dd9d7b570\n",
      "To: /home/manyee/Projects/XAI_project/models/checkpoint_37500.zip\n",
      "100%|██████████| 703M/703M [00:14<00:00, 48.9MB/s]\n"
     ]
    },
    {
     "name": "stdout",
     "output_type": "stream",
     "text": [
      "Downloading Model!!!\n",
      "Extracted checkpoint_37500.zip to /home/manyee/Projects/XAI_project/models/checkpoint_37500\n"
     ]
    }
   ],
   "source": [
    "import numpy as np\n",
    "import pandas as pd\n",
    "from pprint import pprint\n",
    "import os\n",
    "import matplotlib.pyplot as plt\n",
    "import gdown\n",
    "from pathlib import Path\n",
    "\n",
    "import transformers\n",
    "import datasets\n",
    "import shap\n",
    "from lime import lime_text\n",
    "\n",
    "import torch\n",
    "import torch.nn.functional as F\n",
    "from transformers import AutoModelForSequenceClassification, AutoTokenizer,AutoModel\n",
    "from captum.attr import LayerIntegratedGradients\n",
    "from captum.attr import visualization as viz\n",
    "\n",
    "import sys\n",
    "sys.path.append(str(Path(\"..\") / \"src\"))\n",
    "from modeling.download_model import download_model\n",
    "\n",
    "# Download finetuned Model\n",
    "\n",
    "model_path = Path(\"..\") / \"models\" / \"checkpoint-37500\" / \"rng_state.pth\"\n",
    "\n",
    "if not os.path.exists(model_path):\n",
    "    zip_path = Path(\"..\") / \"models\" / \"checkpoint_37500.zip\"\n",
    "    extract_to = extract_to = Path(\"..\") / \"models\" / \"checkpoint_37500\"\n",
    "    download_model(zip_path, extract_to)\n",
    "    \n",
    "    \n",
    "\n",
    "\n",
    "    \n",
    "device = torch.device(\"cuda\")"
   ]
  },
  {
   "cell_type": "code",
   "execution_count": null,
   "id": "5723aa5c",
   "metadata": {},
   "outputs": [],
   "source": []
  },
  {
   "cell_type": "code",
   "execution_count": null,
   "id": "d7ce4bdf",
   "metadata": {},
   "outputs": [],
   "source": []
  },
  {
   "cell_type": "code",
   "execution_count": 18,
   "id": "ecbdcceb",
   "metadata": {},
   "outputs": [],
   "source": [
    "import zipfile\n",
    "\n",
    "# Define the ZIP file path (e.g., two levels up)\n",
    "zip_path = Path(\"..\")  / \"models\" / \"checkpoint_37500.zip\"\n",
    "\n",
    "# Define where you want to extract to\n",
    "extract_to = Path(\"..\") / \"models\" / \"checkpoint_37500\"\n",
    "\n",
    "# Create the destination folder if it doesn't exist\n",
    "extract_to.mkdir(parents=True, exist_ok=True)\n",
    "\n",
    "# Unzip the file\n",
    "with zipfile.ZipFile(zip_path, 'r') as zip_ref:\n",
    "    zip_ref.extractall(extract_to)"
   ]
  }
 ],
 "metadata": {
  "kernelspec": {
   "display_name": ".venv",
   "language": "python",
   "name": "python3"
  },
  "language_info": {
   "codemirror_mode": {
    "name": "ipython",
    "version": 3
   },
   "file_extension": ".py",
   "mimetype": "text/x-python",
   "name": "python",
   "nbconvert_exporter": "python",
   "pygments_lexer": "ipython3",
   "version": "3.10.12"
  }
 },
 "nbformat": 4,
 "nbformat_minor": 5
}
